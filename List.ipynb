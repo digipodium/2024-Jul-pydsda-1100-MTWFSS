{
 "cells": [
  {
   "cell_type": "code",
   "execution_count": 30,
   "metadata": {},
   "outputs": [
    {
     "name": "stdout",
     "output_type": "stream",
     "text": [
      "['chrome', 'photos', 'zomato', 'swiggy', 'uber', 'drive', 'instagram', 'facebook', 'whatsapp', 'snapchat']\n"
     ]
    }
   ],
   "source": [
    "apps = ['chrome', 'photos','zomato','swiggy','uber','drive','instagram','facebook','whatsapp','snapchat']\n",
    "print(apps)"
   ]
  },
  {
   "cell_type": "code",
   "execution_count": 31,
   "metadata": {},
   "outputs": [
    {
     "name": "stdout",
     "output_type": "stream",
     "text": [
      "drive\n",
      "instagram\n",
      "facebook\n",
      "photos\n"
     ]
    }
   ],
   "source": [
    "print(apps[5])\n",
    "print(apps[6])\n",
    "print(apps[-3])\n",
    "print(apps[-9])"
   ]
  },
  {
   "cell_type": "code",
   "execution_count": 32,
   "metadata": {},
   "outputs": [
    {
     "name": "stdout",
     "output_type": "stream",
     "text": [
      "['chrome', 'photos', 'zomato']\n",
      "['chrome', 'zomato', 'uber', 'instagram', 'whatsapp']\n",
      "['chrome', 'photos', 'zomato', 'swiggy', 'uber']\n",
      "['drive', 'instagram', 'facebook', 'whatsapp', 'snapchat']\n",
      "['chrome', 'photos', 'zomato', 'swiggy', 'uber', 'drive', 'instagram', 'facebook', 'whatsapp', 'snapchat']\n",
      "['chrome', 'zomato', 'uber', 'instagram', 'whatsapp']\n"
     ]
    }
   ],
   "source": [
    "print(apps[0:3])\n",
    "print(apps[0:10:2])\n",
    "print(apps[:5])\n",
    "print(apps[5:])\n",
    "print(apps[:])\n",
    "print(apps[::2])"
   ]
  },
  {
   "cell_type": "code",
   "execution_count": 33,
   "metadata": {},
   "outputs": [
    {
     "name": "stdout",
     "output_type": "stream",
     "text": [
      "['chrome', 'photos', 'zomato', 'swiggy', 'uber', 'drive', 'instagram', 'facebook', 'whatsapp', 'snapchat']\n"
     ]
    }
   ],
   "source": [
    "print(apps)"
   ]
  },
  {
   "cell_type": "code",
   "execution_count": 34,
   "metadata": {},
   "outputs": [
    {
     "name": "stdout",
     "output_type": "stream",
     "text": [
      "['chrome', 'photos', 'zomato', 'swiggy', 'uber', 'drive', 'instagram', 'facebook', 'whatsapp', 'snapchat', 'tinder']\n"
     ]
    }
   ],
   "source": [
    "apps.append('tinder')\n",
    "print(apps)"
   ]
  },
  {
   "cell_type": "code",
   "execution_count": 35,
   "metadata": {},
   "outputs": [
    {
     "name": "stdout",
     "output_type": "stream",
     "text": [
      "['chrome', 'photos', 'tinder', 'zomato', 'swiggy', 'uber', 'drive', 'instagram', 'facebook', 'whatsapp', 'snapchat', 'tinder']\n"
     ]
    }
   ],
   "source": [
    "apps.insert(2, 'tinder')\n",
    "print(apps)"
   ]
  },
  {
   "cell_type": "code",
   "execution_count": 36,
   "metadata": {},
   "outputs": [
    {
     "name": "stdout",
     "output_type": "stream",
     "text": [
      "['chrome', 'photos', 'tinder', 'zomato', 'swiggy', 'drive', 'instagram', 'facebook', 'whatsapp', 'snapchat', 'tinder']\n"
     ]
    }
   ],
   "source": [
    "apps.pop(5)\n",
    "print(apps)"
   ]
  },
  {
   "cell_type": "code",
   "execution_count": 37,
   "metadata": {},
   "outputs": [
    {
     "name": "stdout",
     "output_type": "stream",
     "text": [
      "['chrome', 'photos', 'tinder', 'zomato', 'swiggy', 'instagram', 'facebook', 'whatsapp', 'snapchat', 'tinder']\n"
     ]
    }
   ],
   "source": [
    "apps.remove('drive')\n",
    "print(apps)"
   ]
  },
  {
   "cell_type": "code",
   "execution_count": 38,
   "metadata": {},
   "outputs": [
    {
     "name": "stdout",
     "output_type": "stream",
     "text": [
      "['chrome', 'facebook', 'instagram', 'photos', 'snapchat', 'swiggy', 'tinder', 'tinder', 'whatsapp', 'zomato']\n"
     ]
    }
   ],
   "source": [
    "apps.sort()\n",
    "print(apps)"
   ]
  },
  {
   "cell_type": "code",
   "execution_count": 39,
   "metadata": {},
   "outputs": [
    {
     "name": "stdout",
     "output_type": "stream",
     "text": [
      "['chrome', 'facebook', 'instagram', 'photos', 'snapchat', 'swiggy', 'tinder', 'tinder', 'whatsapp', 'zomato']\n"
     ]
    }
   ],
   "source": [
    "apps2 = apps.copy()\n",
    "print(apps2)"
   ]
  },
  {
   "cell_type": "code",
   "execution_count": 40,
   "metadata": {},
   "outputs": [
    {
     "name": "stdout",
     "output_type": "stream",
     "text": [
      "[]\n"
     ]
    }
   ],
   "source": [
    "apps.clear()\n",
    "print(apps)"
   ]
  },
  {
   "cell_type": "code",
   "execution_count": 43,
   "metadata": {},
   "outputs": [
    {
     "name": "stdout",
     "output_type": "stream",
     "text": [
      "['chrome', 'facebook', 'instagram', 'photos', 'snapchat', 'swiggy', 'tinder', 'tinder', 'whatsapp', 'zomato', 'gpay', 'camera', 'maps', 'gpay', 'camera', 'maps', 'gpay', 'camera', 'maps']\n"
     ]
    }
   ],
   "source": [
    "apps3 = ['gpay','camera','maps']\n",
    "apps2.extend(apps3)\n",
    "print(apps2)"
   ]
  },
  {
   "cell_type": "code",
   "execution_count": 44,
   "metadata": {},
   "outputs": [
    {
     "name": "stdout",
     "output_type": "stream",
     "text": [
      "['chrome', 'facebook', 'instagram', 'photos', 'snapchat', 'swiggy', 'tinder', 'tinder', 'whatsapp', 'zomato', 'gpay', 'camera', 'maps', 'gpay', 'camera', 'maps', 'gpay', 'camera', 'maps']\n"
     ]
    }
   ],
   "source": [
    "apps3 = ['gpay','camera','maps']\n",
    "apps3.extend(apps2)\n",
    "print(apps2)"
   ]
  },
  {
   "cell_type": "markdown",
   "metadata": {},
   "source": [
    "List Comrehension"
   ]
  },
  {
   "cell_type": "code",
   "execution_count": 1,
   "metadata": {},
   "outputs": [
    {
     "name": "stdout",
     "output_type": "stream",
     "text": [
      "4\n",
      "16\n",
      "36\n",
      "64\n",
      "100\n"
     ]
    }
   ],
   "source": [
    "a = [2,4,6,8,10]\n",
    "for i in a:\n",
    "    print(i**2)\n"
   ]
  },
  {
   "cell_type": "code",
   "execution_count": 4,
   "metadata": {},
   "outputs": [
    {
     "name": "stdout",
     "output_type": "stream",
     "text": [
      "[4, 16, 36, 64, 100]\n"
     ]
    }
   ],
   "source": [
    "a = [2,4,6,8,10]\n",
    "lst= []\n",
    "for i in a:\n",
    "    lst.append(i**2)\n",
    "print(lst)"
   ]
  },
  {
   "cell_type": "code",
   "execution_count": 5,
   "metadata": {},
   "outputs": [
    {
     "name": "stdout",
     "output_type": "stream",
     "text": [
      "[4, 16, 36, 64, 100]\n"
     ]
    }
   ],
   "source": [
    "num = [2,4,6,8,10]\n",
    "square = [i**2 for i in num]\n",
    "print(square)"
   ]
  },
  {
   "cell_type": "code",
   "execution_count": 6,
   "metadata": {},
   "outputs": [
    {
     "name": "stdout",
     "output_type": "stream",
     "text": [
      "[4, 8, 50, 10, 34, 54, 12]\n"
     ]
    }
   ],
   "source": [
    "x = [1,4,3,5,7,5,8,50,10,34,23,54,12]\n",
    "even_nums = [num for num in x if num%2==0]\n",
    "print(even_nums)"
   ]
  },
  {
   "cell_type": "code",
   "execution_count": 9,
   "metadata": {},
   "outputs": [
    {
     "name": "stdout",
     "output_type": "stream",
     "text": [
      "['HELLO', 'MY', 'NAME', 'IS', 'JOY']\n"
     ]
    }
   ],
   "source": [
    "words = ['hello','my','name','is','Joy']\n",
    "lst = [i.upper() for i in words]\n",
    "print(lst)"
   ]
  },
  {
   "cell_type": "code",
   "execution_count": null,
   "metadata": {},
   "outputs": [],
   "source": []
  }
 ],
 "metadata": {
  "kernelspec": {
   "display_name": "base",
   "language": "python",
   "name": "python3"
  },
  "language_info": {
   "codemirror_mode": {
    "name": "ipython",
    "version": 3
   },
   "file_extension": ".py",
   "mimetype": "text/x-python",
   "name": "python",
   "nbconvert_exporter": "python",
   "pygments_lexer": "ipython3",
   "version": "3.9.12"
  }
 },
 "nbformat": 4,
 "nbformat_minor": 2
}
