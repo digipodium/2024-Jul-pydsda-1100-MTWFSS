{
 "cells": [
  {
   "cell_type": "markdown",
   "metadata": {},
   "source": [
    "# functions in python\n",
    "- predefined functions\n",
    "  - built-in functions\n",
    "    - print(), input(), len(), type(), int(), sum()\n",
    "  - modules based functions\n",
    "    - local modules\n",
    "      - math\n",
    "      - datetime\n",
    "      - os\n",
    "      - turtle\n",
    "      - random\n",
    "    - 3rd party modules\n",
    "      - numpy\n",
    "      - pandas\n",
    "      - matplotlib\n",
    "      - dputils\n",
    "- user defined functions\n",
    "  - function with return value\n",
    "  - non-parameterized functions\n",
    "  - parameterized functions\n",
    "    - required parameters/named parameter\n",
    "    - default parameters\n",
    "    - variables args\n",
    "    - keyvalue variable args\n",
    "    - lambda\n",
    "    - map and filter"
   ]
  },
  {
   "cell_type": "markdown",
   "metadata": {},
   "source": [
    "# modules based function"
   ]
  },
  {
   "cell_type": "code",
   "execution_count": null,
   "metadata": {},
   "outputs": [],
   "source": [
    "import math"
   ]
  },
  {
   "cell_type": "code",
   "execution_count": null,
   "metadata": {},
   "outputs": [],
   "source": [
    "math.pi"
   ]
  },
  {
   "cell_type": "code",
   "execution_count": null,
   "metadata": {},
   "outputs": [],
   "source": [
    "math.factorial(100)"
   ]
  },
  {
   "cell_type": "code",
   "execution_count": null,
   "metadata": {},
   "outputs": [],
   "source": [
    "math.sin(10)"
   ]
  },
  {
   "cell_type": "code",
   "execution_count": null,
   "metadata": {},
   "outputs": [],
   "source": [
    "math.floor(3.12930012309123)"
   ]
  },
  {
   "cell_type": "code",
   "execution_count": null,
   "metadata": {},
   "outputs": [],
   "source": [
    "math.ceil(3.129)"
   ]
  },
  {
   "cell_type": "code",
   "execution_count": null,
   "metadata": {},
   "outputs": [],
   "source": [
    "math.fabs(-3.129)"
   ]
  },
  {
   "cell_type": "code",
   "execution_count": null,
   "metadata": {},
   "outputs": [],
   "source": [
    "from random import choice, randint"
   ]
  },
  {
   "cell_type": "code",
   "execution_count": null,
   "metadata": {},
   "outputs": [],
   "source": [
    "choice?"
   ]
  },
  {
   "cell_type": "code",
   "execution_count": null,
   "metadata": {},
   "outputs": [],
   "source": [
    "data = ['🐱','🙉','🦁','🐯','🐶','🐺','🦝','🦊','🐼','🐸']\n",
    "print(data)\n",
    "print(\"Your emoji is: \")\n",
    "print(choice(data))"
   ]
  },
  {
   "cell_type": "code",
   "execution_count": null,
   "metadata": {},
   "outputs": [],
   "source": [
    "print(randint(1,6))"
   ]
  },
  {
   "cell_type": "code",
   "execution_count": null,
   "metadata": {},
   "outputs": [],
   "source": [
    "from random import sample, choices\n",
    "out = sample(data, 10)\n",
    "print(*out) # * here is a trick to unpack the list\n",
    "out2 = choices(data, k=10)\n",
    "print(*out2)"
   ]
  },
  {
   "cell_type": "code",
   "execution_count": null,
   "metadata": {},
   "outputs": [],
   "source": [
    "from datetime import datetime"
   ]
  },
  {
   "cell_type": "code",
   "execution_count": null,
   "metadata": {},
   "outputs": [],
   "source": [
    "print(datetime.now())"
   ]
  },
  {
   "cell_type": "code",
   "execution_count": null,
   "metadata": {},
   "outputs": [],
   "source": [
    "# date\n",
    "date = datetime.date(datetime.now())\n",
    "print(date)\n",
    "time = datetime.time(datetime.now())\n",
    "print(date)\n",
    "now = datetime.now()\n",
    "print(now)\n",
    "formatted = now.strftime(\"%d/%m/%Y\")\n",
    "print(formatted)"
   ]
  },
  {
   "cell_type": "code",
   "execution_count": null,
   "metadata": {},
   "outputs": [],
   "source": [
    "import os"
   ]
  },
  {
   "cell_type": "code",
   "execution_count": null,
   "metadata": {},
   "outputs": [],
   "source": [
    "print(\"current location\")\n",
    "print(os.getcwd())"
   ]
  },
  {
   "cell_type": "code",
   "execution_count": null,
   "metadata": {},
   "outputs": [],
   "source": [
    "print('list all files ')\n",
    "content = os.listdir()\n",
    "for item in content:\n",
    "    print(f\"🗄️{item}\")"
   ]
  },
  {
   "cell_type": "code",
   "execution_count": null,
   "metadata": {},
   "outputs": [],
   "source": [
    "content = os.listdir(\"C:/Program Files\")\n",
    "for item in content:\n",
    "    print(f\"🗄️{item}\")"
   ]
  },
  {
   "cell_type": "code",
   "execution_count": null,
   "metadata": {},
   "outputs": [],
   "source": [
    "content = os.listdir(\"C:/Program Files\")\n",
    "for item in content:\n",
    "    path = f\"C:/Program Files/{item}\"\n",
    "    is_file =os.path.isfile(path)\n",
    "    if is_file:\n",
    "        print(f\"📄{item}\")\n",
    "    else:\n",
    "        print(f\"📁{item}\")"
   ]
  },
  {
   "cell_type": "code",
   "execution_count": null,
   "metadata": {},
   "outputs": [],
   "source": [
    "content = os.listdir(\"C:/users/zaid/documents\")\n",
    "for item in content:\n",
    "    path = f\"C:/users/zaid/documents/{item}\"\n",
    "    is_file =os.path.isfile(path)\n",
    "    if is_file:\n",
    "        print(f\"📄{item}\")\n",
    "    else:\n",
    "        print(f\"📁{item}\")"
   ]
  },
  {
   "cell_type": "code",
   "execution_count": null,
   "metadata": {},
   "outputs": [],
   "source": [
    "os.makedirs(\"folder1/folder2\", exist_ok=True)"
   ]
  },
  {
   "cell_type": "code",
   "execution_count": null,
   "metadata": {},
   "outputs": [],
   "source": [
    "os.makedirs(\"C:/important/work\", exist_ok=True)"
   ]
  },
  {
   "cell_type": "markdown",
   "metadata": {},
   "source": [
    "# User defined functions\n",
    "### stage 1: define a function (create)\n",
    "```python\n",
    "def fun_name([params...]):\n",
    "    statements\n",
    "    ...\n",
    "    [return value]\n",
    "```\n",
    "### stage 2: call the function (use)\n",
    "```python\n",
    "fun_name([args...])\n",
    "```"
   ]
  },
  {
   "cell_type": "code",
   "execution_count": null,
   "metadata": {},
   "outputs": [],
   "source": [
    "def adder(a,b):\n",
    "    total = a + b\n",
    "    return total"
   ]
  },
  {
   "cell_type": "code",
   "execution_count": null,
   "metadata": {},
   "outputs": [],
   "source": [
    "adder(10, 12)"
   ]
  },
  {
   "cell_type": "code",
   "execution_count": null,
   "metadata": {},
   "outputs": [],
   "source": [
    "x = 1299\n",
    "y = 2399\n",
    "adder(x, y)"
   ]
  },
  {
   "cell_type": "code",
   "execution_count": null,
   "metadata": {},
   "outputs": [],
   "source": [
    "def simple_interest(p, r, t):\n",
    "    si = p * r * t / 100\n",
    "    a = si + p  \n",
    "    return si, a"
   ]
  },
  {
   "cell_type": "code",
   "execution_count": null,
   "metadata": {},
   "outputs": [],
   "source": [
    "p = 200000\n",
    "r = 1.5\n",
    "t = 10\n",
    "simple_interest(p, r, t)"
   ]
  },
  {
   "cell_type": "code",
   "execution_count": null,
   "metadata": {},
   "outputs": [],
   "source": [
    "def area_of_spehere(r):\n",
    "    area = 4 * 3.14 * r * r\n",
    "    return area\n",
    "\n",
    "r = 10\n",
    "area_of_spehere(r)\n",
    "r = 14\n",
    "area_of_spehere(r)"
   ]
  },
  {
   "cell_type": "code",
   "execution_count": null,
   "metadata": {},
   "outputs": [],
   "source": [
    "adder(10, 12)"
   ]
  },
  {
   "cell_type": "code",
   "execution_count": null,
   "metadata": {},
   "outputs": [],
   "source": [
    "ans = adder(15,6)\n",
    "print(ans)\n",
    "result = area_of_spehere(ans)\n",
    "print(result)"
   ]
  },
  {
   "cell_type": "code",
   "execution_count": null,
   "metadata": {},
   "outputs": [],
   "source": [
    "# waf to count the number of words in a sentence\n",
    "def word_count(sentence):\n",
    "    words = sentence.split()\n",
    "    return len(words)\n",
    "\n",
    "sentence = \"I am a student\"\n",
    "print(word_count(sentence))\n",
    "\n",
    "sentence = \"this is a long sentence with many words, okay?\"\n",
    "size = word_count(sentence)\n",
    "print(f'total words: {size}')"
   ]
  },
  {
   "cell_type": "code",
   "execution_count": null,
   "metadata": {},
   "outputs": [],
   "source": [
    "# required positional parameter\n",
    "def multiplier(a,b,c,d):\n",
    "    ans = a * b * c * d\n",
    "    return ans"
   ]
  },
  {
   "cell_type": "code",
   "execution_count": null,
   "metadata": {},
   "outputs": [],
   "source": [
    "print(multiplier(1,2,3,4))            # positional argument\n",
    "print(multiplier(a=2, b=3, c=4, d=5)) # keyword argument\n",
    "print(multiplier(b=3, c=3, a=1, d=4)) # keyword argument in any order\n",
    "print(multiplier(1, 2, d=5, c=5))     # mix of positional and keyword argument\n"
   ]
  },
  {
   "cell_type": "code",
   "execution_count": null,
   "metadata": {},
   "outputs": [],
   "source": [
    "# default parameter\n",
    "def multiplier_v2(a, b, c, d=1):\n",
    "    ans = a * b * c * d\n",
    "    return ans"
   ]
  },
  {
   "cell_type": "code",
   "execution_count": null,
   "metadata": {},
   "outputs": [],
   "source": [
    "print(multiplier_v2(1,2,3,4))\n",
    "print(multiplier_v2(1,2,3))  # d is optional (default value = 1)\n",
    "print(multiplier_v2(1,2,3, d=4)) "
   ]
  },
  {
   "cell_type": "code",
   "execution_count": null,
   "metadata": {},
   "outputs": [],
   "source": [
    "def multiplier_v3(a=1, b=1, c=1, d=1):\n",
    "    ans = a * b * c * d\n",
    "    return ans"
   ]
  },
  {
   "cell_type": "code",
   "execution_count": null,
   "metadata": {},
   "outputs": [],
   "source": [
    "print(multiplier_v3())\n",
    "print(multiplier_v3(10))\n",
    "print(multiplier_v3(b=10))\n",
    "print(multiplier_v3(10, 20))\n",
    "print(multiplier_v3(10, c=20))\n",
    "print(multiplier_v3(10, 20, 30, 40))\n",
    "print(multiplier_v3(10, 20, d=30, c=40))"
   ]
  },
  {
   "cell_type": "code",
   "execution_count": null,
   "metadata": {},
   "outputs": [],
   "source": [
    "\"hello world\".split(sep='o') # default parameter example in predefined function"
   ]
  },
  {
   "cell_type": "code",
   "execution_count": null,
   "metadata": {},
   "outputs": [],
   "source": [
    "# variable length argument\n",
    "print()\n",
    "print(1)\n",
    "print(1,2,3)\n",
    "print(1,2,3,4,5,6,7,8,9,0,1, sep='|')"
   ]
  },
  {
   "cell_type": "code",
   "execution_count": null,
   "metadata": {},
   "outputs": [],
   "source": [
    "def stats(*nums, action='mean'):\n",
    "    if action == 'mean':\n",
    "        total = sum(nums)\n",
    "        size = len(nums)\n",
    "        return total / size\n",
    "    elif action == 'sum':\n",
    "        return sum(nums)"
   ]
  },
  {
   "cell_type": "code",
   "execution_count": null,
   "metadata": {},
   "outputs": [],
   "source": [
    "print(stats(1,2,3,4,5,6,7,8,9))\n",
    "print(stats(22,33,44,55,66))\n",
    "print(stats(4,5,1,2))\n",
    "print(stats(4,5,1,2, action='sum'))"
   ]
  },
  {
   "cell_type": "markdown",
   "metadata": {},
   "source": [
    "when defining a function:\n",
    "- only one parameter can be variable length parameter (*args)\n",
    "- only one parameter cab be variable keyword parameter (**kwargs)\n",
    "- default parameters should be at the end"
   ]
  },
  {
   "cell_type": "code",
   "execution_count": null,
   "metadata": {},
   "outputs": [],
   "source": [
    "# variable length keyword argument\n",
    "def person(**details):\n",
    "    print(\"Details of the person\")\n",
    "    for k, v in details.items():\n",
    "        print(f\"{k:10}| {v}\")"
   ]
  },
  {
   "cell_type": "code",
   "execution_count": null,
   "metadata": {},
   "outputs": [],
   "source": [
    "person(name='rahul')\n",
    "person(name='vijay', age=22, city='mumbai', country='india', gender='male')\n",
    "person(name='arti', age=20, city='kanpur', job='engineer')"
   ]
  },
  {
   "cell_type": "markdown",
   "metadata": {},
   "source": [
    "lambda expression: simple equation as functions\n",
    "\n",
    "mathematical function:\n",
    "```\n",
    "f(x) = x**2 + 1\n",
    "g(x, y) = x**2 + y**2 + 1\n",
    "```\n",
    "\n",
    "lambda expression:\n",
    "```python\n",
    "f = lambda x: x**2 + 1\n",
    "g = lambda x, y: x**2 + y**2 + 1\n",
    "```"
   ]
  },
  {
   "cell_type": "code",
   "execution_count": null,
   "metadata": {},
   "outputs": [],
   "source": [
    "f = lambda x: x**2 + 1\n",
    "f"
   ]
  },
  {
   "cell_type": "code",
   "execution_count": null,
   "metadata": {},
   "outputs": [],
   "source": [
    "print(f(10))\n",
    "print(f(2))\n",
    "print(f(100))"
   ]
  },
  {
   "cell_type": "code",
   "execution_count": null,
   "metadata": {},
   "outputs": [],
   "source": [
    "g = lambda x, y: x**2 + y**2 + 1\n",
    "print(g(2,3))\n",
    "print(g(3,4))\n"
   ]
  },
  {
   "cell_type": "code",
   "execution_count": null,
   "metadata": {},
   "outputs": [],
   "source": [
    "data = [1,2,3,4,5,6,7,8,9,10]\n",
    "f = lambda x: x**2 + 1\n",
    "list(map(f, data))"
   ]
  },
  {
   "cell_type": "code",
   "execution_count": null,
   "metadata": {},
   "outputs": [],
   "source": [
    "tuple(map(f, data))"
   ]
  },
  {
   "cell_type": "code",
   "execution_count": 53,
   "metadata": {},
   "outputs": [
    {
     "data": {
      "text/plain": [
       "[102, 405, 910, 1617, 2526, 3637, 4950, 6465, 8182, 222]"
      ]
     },
     "execution_count": 53,
     "metadata": {},
     "output_type": "execute_result"
    }
   ],
   "source": [
    "data1 = [1,2,3,4,5,6,7,8,9,10]\n",
    "data2 = [10,20,30,40,50,60,70,80,90,11]\n",
    "g = lambda x, y: x**2 + y**2 + 1\n",
    "list(map(g, data1, data2))"
   ]
  },
  {
   "cell_type": "code",
   "execution_count": null,
   "metadata": {},
   "outputs": [],
   "source": []
  }
 ],
 "metadata": {
  "kernelspec": {
   "display_name": "base",
   "language": "python",
   "name": "python3"
  },
  "language_info": {
   "codemirror_mode": {
    "name": "ipython",
    "version": 3
   },
   "file_extension": ".py",
   "mimetype": "text/x-python",
   "name": "python",
   "nbconvert_exporter": "python",
   "pygments_lexer": "ipython3",
   "version": "3.12.2"
  }
 },
 "nbformat": 4,
 "nbformat_minor": 2
}
