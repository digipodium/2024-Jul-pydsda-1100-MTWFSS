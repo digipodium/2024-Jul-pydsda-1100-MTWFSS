{
 "cells": [
  {
   "cell_type": "markdown",
   "metadata": {},
   "source": [
    "### python datatypes\n",
    "```\n",
    "- int       |      1 10 -20         |   integers\n",
    "- float     |   .2 1.3 -2.3 1.5e10  |   float\n",
    "- bool      | True, False           |   Boolean\n",
    "- str       | 'hello', \"hello\"      |   String\n",
    "- Nonetype  |       None            |   No value\n",
    "- list      |   [1,2,3]             |  similar to array\n",
    "- tuple     |   (1,2,3)             |  similar to array\n",
    "- set       |   {1,2,3}             |  similar to array\n",
    "- dict      |   {\"a\": 'apple'}      |  similar to hashmaps  \n",
    "```"
   ]
  },
  {
   "cell_type": "code",
   "execution_count": null,
   "metadata": {},
   "outputs": [],
   "source": [
    "print(\"Hello , I am Alex\")"
   ]
  },
  {
   "cell_type": "code",
   "execution_count": null,
   "metadata": {},
   "outputs": [],
   "source": [
    "print(\"Once upon a time\")\n",
    "print(\"There was a monkey\")\n",
    "print(\"sitting on tree\")\n",
    "print(\"to be continued\")"
   ]
  },
  {
   "cell_type": "code",
   "execution_count": null,
   "metadata": {},
   "outputs": [],
   "source": [
    "a = 10\n",
    "b = 20\n",
    "c = a * b\n",
    "print(a, b, c)\n",
    "print(a, \"*\", b, \"=\", c)"
   ]
  },
  {
   "cell_type": "code",
   "execution_count": null,
   "metadata": {},
   "outputs": [],
   "source": [
    "name = 'Sarah'\n",
    "age = 25\n",
    "job = \"SDE 1\"\n",
    "print(\"Name:\", name, \", Age:\", age, \", Job:\", job)"
   ]
  },
  {
   "cell_type": "code",
   "execution_count": null,
   "metadata": {},
   "outputs": [],
   "source": [
    "print(\"Name:\", name)\n",
    "print(\"Age:\", age)\n",
    "print(\"Job:\", job)"
   ]
  },
  {
   "cell_type": "markdown",
   "metadata": {},
   "source": [
    "f-strings (python >= 3.6)"
   ]
  },
  {
   "cell_type": "code",
   "execution_count": null,
   "metadata": {},
   "outputs": [],
   "source": [
    "p = 150000\n",
    "r = 2.5\n",
    "t = 10\n",
    "si = p*r*t/100\n",
    "print(\"Simple interest calculator\")\n",
    "print(\"📦\"*10)\n",
    "print(f'principle = {p}')\n",
    "print(f'rate = {r}')\n",
    "print(f'time = {t}')\n",
    "print(\"📦\"*10)\n",
    "print(f'simple interest = {si}')"
   ]
  },
  {
   "cell_type": "code",
   "execution_count": null,
   "metadata": {},
   "outputs": [],
   "source": [
    "print(\"Simple interest calculator\")\n",
    "print(\"-\"*26)\n",
    "print(f'principle {p//1000:15}K')\n",
    "print(f'rate {r:20}%')\n",
    "print(f'time {t:20}y')\n",
    "print(\"-\"*26)\n",
    "print(f'simple interest {si/1000:9}K')\n",
    "print(\"-\"*26)"
   ]
  },
  {
   "cell_type": "code",
   "execution_count": null,
   "metadata": {},
   "outputs": [],
   "source": [
    "fav_movie = input(\"Plz enter your movie\")\n",
    "print(fav_movie)\n",
    "print(\"You may like it but i dont care\")"
   ]
  },
  {
   "cell_type": "code",
   "execution_count": 78,
   "metadata": {},
   "outputs": [
    {
     "name": "stdout",
     "output_type": "stream",
     "text": [
      "Result is\n",
      "24\n"
     ]
    }
   ],
   "source": [
    "a = input(\"enter a number\")\n",
    "b = input(\"enter another number\")\n",
    "print(\"Result is\")\n",
    "print(int(a) + int(b))"
   ]
  },
  {
   "cell_type": "code",
   "execution_count": 79,
   "metadata": {},
   "outputs": [
    {
     "name": "stdout",
     "output_type": "stream",
     "text": [
      "Result is\n",
      "135120\n"
     ]
    }
   ],
   "source": [
    "a = int(input(\"enter a number\"))\n",
    "b = int(input(\"enter another number\"))\n",
    "print(\"Result is\")\n",
    "print(a + b)"
   ]
  },
  {
   "cell_type": "code",
   "execution_count": null,
   "metadata": {},
   "outputs": [],
   "source": []
  }
 ],
 "metadata": {
  "kernelspec": {
   "display_name": "base",
   "language": "python",
   "name": "python3"
  },
  "language_info": {
   "codemirror_mode": {
    "name": "ipython",
    "version": 3
   },
   "file_extension": ".py",
   "mimetype": "text/x-python",
   "name": "python",
   "nbconvert_exporter": "python",
   "pygments_lexer": "ipython3",
   "version": "3.12.2"
  }
 },
 "nbformat": 4,
 "nbformat_minor": 2
}
