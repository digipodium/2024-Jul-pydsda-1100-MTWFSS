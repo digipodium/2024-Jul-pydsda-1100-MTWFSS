{
 "cells": [
  {
   "cell_type": "markdown",
   "metadata": {},
   "source": [
    "### python datatypes\n",
    "```\n",
    "- int       |      1 10 -20         |   integers\n",
    "- float     |   .2 1.3 -2.3 1.5e10  |   float\n",
    "- bool      | True, False           |   Boolean\n",
    "- str       | 'hello', \"hello\"      |   String\n",
    "- Nonetype  |       None            |   No value\n",
    "- list      |   [1,2,3]             |  similar to array\n",
    "- tuple     |   (1,2,3)             |  similar to array\n",
    "- set       |   {1,2,3}             |  similar to array\n",
    "- dict      |   {\"a\": 'apple'}      |  similar to hashmaps  \n",
    "```"
   ]
  },
  {
   "cell_type": "code",
   "execution_count": 1,
   "metadata": {},
   "outputs": [
    {
     "name": "stdout",
     "output_type": "stream",
     "text": [
      "Hello , I am Alex\n"
     ]
    }
   ],
   "source": [
    "print(\"Hello , I am Alex\")"
   ]
  },
  {
   "cell_type": "code",
   "execution_count": 2,
   "metadata": {},
   "outputs": [
    {
     "name": "stdout",
     "output_type": "stream",
     "text": [
      "Once upon a time\n",
      "There was a monkey\n",
      "sitting on tree\n",
      "to be continued\n"
     ]
    }
   ],
   "source": [
    "print(\"Once upon a time\")\n",
    "print(\"There was a monkey\")\n",
    "print(\"sitting on tree\")\n",
    "print(\"to be continued\")"
   ]
  },
  {
   "cell_type": "code",
   "execution_count": 3,
   "metadata": {},
   "outputs": [
    {
     "name": "stdout",
     "output_type": "stream",
     "text": [
      "10 20 200\n",
      "10 * 20 = 200\n"
     ]
    }
   ],
   "source": [
    "a = 10\n",
    "b = 20\n",
    "c = a * b\n",
    "print(a, b, c)\n",
    "print(a, \"*\", b, \"=\", c)"
   ]
  },
  {
   "cell_type": "code",
   "execution_count": 4,
   "metadata": {},
   "outputs": [
    {
     "name": "stdout",
     "output_type": "stream",
     "text": [
      "Name: Sarah , Age: 25 , Job: SDE 1\n"
     ]
    }
   ],
   "source": [
    "name = 'Sarah'\n",
    "age = 25\n",
    "job = \"SDE 1\"\n",
    "print(\"Name:\", name, \", Age:\", age, \", Job:\", job)"
   ]
  },
  {
   "cell_type": "code",
   "execution_count": 5,
   "metadata": {},
   "outputs": [
    {
     "name": "stdout",
     "output_type": "stream",
     "text": [
      "Name: Sarah\n",
      "Age: 25\n",
      "Job: SDE 1\n"
     ]
    }
   ],
   "source": [
    "print(\"Name:\", name)\n",
    "print(\"Age:\", age)\n",
    "print(\"Job:\", job)"
   ]
  },
  {
   "cell_type": "markdown",
   "metadata": {},
   "source": [
    "f-strings (python >= 3.6)"
   ]
  },
  {
   "cell_type": "code",
   "execution_count": 6,
   "metadata": {},
   "outputs": [
    {
     "name": "stdout",
     "output_type": "stream",
     "text": [
      "Simple interest calculator\n",
      "📦📦📦📦📦📦📦📦📦📦\n",
      "principle = 150000\n",
      "rate = 2.5\n",
      "time = 10\n",
      "📦📦📦📦📦📦📦📦📦📦\n",
      "simple interest = 37500.0\n"
     ]
    }
   ],
   "source": [
    "p = 150000\n",
    "r = 2.5\n",
    "t = 10\n",
    "si = p*r*t/100\n",
    "print(\"Simple interest calculator\")\n",
    "print(\"📦\"*10)\n",
    "print(f'principle = {p}')\n",
    "print(f'rate = {r}')\n",
    "print(f'time = {t}')\n",
    "print(\"📦\"*10)\n",
    "print(f'simple interest = {si}')"
   ]
  },
  {
   "cell_type": "code",
   "execution_count": 7,
   "metadata": {},
   "outputs": [
    {
     "name": "stdout",
     "output_type": "stream",
     "text": [
      "Simple interest calculator\n",
      "--------------------------\n",
      "principle             150K\n",
      "rate                  2.5%\n",
      "time                   10y\n",
      "--------------------------\n",
      "simple interest      37.5K\n",
      "--------------------------\n"
     ]
    }
   ],
   "source": [
    "print(\"Simple interest calculator\")\n",
    "print(\"-\"*26)\n",
    "print(f'principle {p//1000:15}K')\n",
    "print(f'rate {r:20}%')\n",
    "print(f'time {t:20}y')\n",
    "print(\"-\"*26)\n",
    "print(f'simple interest {si/1000:9}K')\n",
    "print(\"-\"*26)"
   ]
  },
  {
   "cell_type": "code",
   "execution_count": 8,
   "metadata": {},
   "outputs": [
    {
     "name": "stdout",
     "output_type": "stream",
     "text": [
      "inception\n",
      "You may like it but i dont care\n"
     ]
    }
   ],
   "source": [
    "fav_movie = input(\"Plz enter your movie\")\n",
    "print(fav_movie)\n",
    "print(\"You may like it but i dont care\")"
   ]
  },
  {
   "cell_type": "code",
   "execution_count": 9,
   "metadata": {},
   "outputs": [
    {
     "name": "stdout",
     "output_type": "stream",
     "text": [
      "Result is\n",
      "57\n"
     ]
    }
   ],
   "source": [
    "a = input(\"enter a number\")\n",
    "b = input(\"enter another number\")\n",
    "print(\"Result is\")\n",
    "print(int(a) + int(b))"
   ]
  },
  {
   "cell_type": "code",
   "execution_count": 10,
   "metadata": {},
   "outputs": [
    {
     "name": "stdout",
     "output_type": "stream",
     "text": [
      "Result is\n",
      "79\n"
     ]
    }
   ],
   "source": [
    "a = int(input(\"enter a number\"))\n",
    "b = int(input(\"enter another number\"))\n",
    "print(\"Result is\")\n",
    "print(a + b)"
   ]
  },
  {
   "cell_type": "code",
   "execution_count": 11,
   "metadata": {},
   "outputs": [
    {
     "data": {
      "text/plain": [
       "int"
      ]
     },
     "execution_count": 11,
     "metadata": {},
     "output_type": "execute_result"
    }
   ],
   "source": [
    "type(a)"
   ]
  },
  {
   "cell_type": "code",
   "execution_count": 12,
   "metadata": {},
   "outputs": [
    {
     "data": {
      "text/plain": [
       "str"
      ]
     },
     "execution_count": 12,
     "metadata": {},
     "output_type": "execute_result"
    }
   ],
   "source": [
    "type(name)"
   ]
  },
  {
   "cell_type": "code",
   "execution_count": 2,
   "metadata": {},
   "outputs": [
    {
     "name": "stdout",
     "output_type": "stream",
     "text": [
      "Area of sphere is 314.0\n"
     ]
    }
   ],
   "source": [
    "pi = 3.14\n",
    "r = 5\n",
    "area = 4 * pi * r**2\n",
    "print(\"Area of sphere is\", area)"
   ]
  },
  {
   "cell_type": "code",
   "execution_count": null,
   "metadata": {},
   "outputs": [],
   "source": []
  }
 ],
 "metadata": {
  "kernelspec": {
   "display_name": "base",
   "language": "python",
   "name": "python3"
  },
  "language_info": {
   "codemirror_mode": {
    "name": "ipython",
    "version": 3
   },
   "file_extension": ".py",
   "mimetype": "text/x-python",
   "name": "python",
   "nbconvert_exporter": "python",
   "pygments_lexer": "ipython3",
   "version": "3.12.2"
  }
 },
 "nbformat": 4,
 "nbformat_minor": 2
}
