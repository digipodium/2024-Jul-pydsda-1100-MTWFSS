{
 "cells": [
  {
   "cell_type": "code",
   "execution_count": null,
   "metadata": {},
   "outputs": [],
   "source": [
    "a = 10.1\n",
    "b = 20\n",
    "name = \"Zaid\"\n",
    "city = \"Lucknow\""
   ]
  },
  {
   "cell_type": "markdown",
   "metadata": {},
   "source": [
    "# operators\n",
    "- arithmetic \n",
    "- assignment \n",
    "- comparison\n",
    "- logical\n",
    "- membership\n",
    "- identity"
   ]
  },
  {
   "cell_type": "code",
   "execution_count": null,
   "metadata": {},
   "outputs": [],
   "source": [
    "# + - * / % // **\n",
    "x = 10\n",
    "y = 3\n",
    "print(x + y)\n",
    "print(x - y)\n",
    "print(x * y)\n",
    "print(x / y)\n",
    "print(x % y) # remainder\n",
    "print(x // y) # floor division\n",
    "print(x ** y) # x to the power y"
   ]
  },
  {
   "cell_type": "code",
   "execution_count": null,
   "metadata": {},
   "outputs": [],
   "source": [
    "# = += -= *= /= %= //= **=\n",
    "a = 10\n",
    "b = a + 20\n",
    "c = a + b\n",
    "c = c + 30\n",
    "c += 30\n",
    "c -= 10\n",
    "print(c)\n",
    "print(a)\n",
    "print(b)"
   ]
  },
  {
   "cell_type": "code",
   "execution_count": null,
   "metadata": {},
   "outputs": [],
   "source": [
    "print(a > b)\n",
    "print(a < b)\n",
    "print(a >= b)\n",
    "print(a <= b)\n",
    "print(a != b)\n",
    "print(a == b)"
   ]
  },
  {
   "cell_type": "code",
   "execution_count": null,
   "metadata": {},
   "outputs": [],
   "source": [
    "# logical operators and or not\n",
    "print(a > b and a < b)\n",
    "print(a > b or a < b)\n",
    "print(a > 2 and a < b)\n",
    "print(a > 2 or a < b)\n",
    "print(not a > 2)\n",
    "print(not(a > b and a < b))"
   ]
  },
  {
   "cell_type": "code",
   "execution_count": null,
   "metadata": {},
   "outputs": [],
   "source": [
    "name = \"Alexis\"\n",
    "print(\"h\" in name)\n",
    "print(\"a\" in name)\n",
    "print(\"A\" in name)\n",
    "print(\"x\" in name)\n",
    "nums = [10, 20, 30, 40, 50]\n",
    "print(10 in nums)\n",
    "print(100 in nums)"
   ]
  },
  {
   "cell_type": "code",
   "execution_count": 31,
   "metadata": {},
   "outputs": [
    {
     "name": "stdout",
     "output_type": "stream",
     "text": [
      "True\n",
      "False\n"
     ]
    }
   ],
   "source": [
    "# is (identity operator)\n",
    "x = 10\n",
    "y = 10\n",
    "print(x is y)\n",
    "\n",
    "nums = [10, 20, 30]\n",
    "nums2 = nums.copy()\n",
    "print(nums is nums2)"
   ]
  },
  {
   "cell_type": "code",
   "execution_count": null,
   "metadata": {},
   "outputs": [],
   "source": []
  }
 ],
 "metadata": {
  "kernelspec": {
   "display_name": "base",
   "language": "python",
   "name": "python3"
  },
  "language_info": {
   "codemirror_mode": {
    "name": "ipython",
    "version": 3
   },
   "file_extension": ".py",
   "mimetype": "text/x-python",
   "name": "python",
   "nbconvert_exporter": "python",
   "pygments_lexer": "ipython3",
   "version": "3.12.2"
  }
 },
 "nbformat": 4,
 "nbformat_minor": 2
}
