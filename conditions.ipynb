{
 "cells": [
  {
   "cell_type": "markdown",
   "metadata": {},
   "source": [
    "conditions in python\n",
    "- block of code\n",
    "  - `if` , `else` , `elif` , `while` , `for` , `try` , `except` , `finally` , `with`, `def`, `class`\n",
    "- if condition\n",
    "- if else condition\n",
    "- if elif ladder\n",
    "- nested if else\n",
    "- short hand if else\n",
    "- match case"
   ]
  },
  {
   "cell_type": "code",
   "execution_count": null,
   "metadata": {},
   "outputs": [],
   "source": [
    "a = -10\n",
    "if a > 5:\n",
    "    print(\"a is greater than 5\")\n",
    "    print('hi')\n",
    "print('bye')"
   ]
  },
  {
   "cell_type": "code",
   "execution_count": null,
   "metadata": {},
   "outputs": [],
   "source": [
    "word = input('enter a long word')\n",
    "if len(word) > 10:\n",
    "    print(\"very good, you know how to type long words 🥳\")"
   ]
  },
  {
   "cell_type": "code",
   "execution_count": null,
   "metadata": {},
   "outputs": [],
   "source": [
    "n = [12,21,32,4]\n",
    "if sum(n) > 100:\n",
    "    print(\"yay 100\")\n",
    "else:\n",
    "    print(\"🤬 not 100\")"
   ]
  },
  {
   "cell_type": "code",
   "execution_count": null,
   "metadata": {},
   "outputs": [],
   "source": [
    "# if elif ladder\n",
    "marks = 80\n",
    "if marks > 85:\n",
    "    grade = 'A'\n",
    "elif marks > 70:\n",
    "    grade = 'B'\n",
    "elif marks > 60:\n",
    "    grade = 'C'\n",
    "elif marks > 50:\n",
    "    grade = 'D'\n",
    "else:\n",
    "    grade = 'F'\n",
    "print(f\"Grade is {grade}\")"
   ]
  },
  {
   "cell_type": "code",
   "execution_count": 11,
   "metadata": {},
   "outputs": [
    {
     "name": "stdout",
     "output_type": "stream",
     "text": [
      "C 52 is the largest\n"
     ]
    }
   ],
   "source": [
    "# find the largest number\n",
    "a, b, c = 31, 23, 52\n",
    "if a > b and a > c:\n",
    "    print(f\"A {a} is the largest\")\n",
    "elif b > a and b > c:\n",
    "    print(f\"B {b} is the largest\")\n",
    "else:\n",
    "    print(f\"C {c} is the largest\")"
   ]
  },
  {
   "cell_type": "code",
   "execution_count": 18,
   "metadata": {},
   "outputs": [
    {
     "name": "stdout",
     "output_type": "stream",
     "text": [
      "🚫Invalid Username\n"
     ]
    }
   ],
   "source": [
    "# nested if else\n",
    "un = input('enter a username')\n",
    "pw = input('enter a password')\n",
    "if un and pw:                            # agar un and pw are not empty\n",
    "    if un == 'admin':                    # agar un is admin\n",
    "        if pw =='admin':                 # agar pw is admin\n",
    "            print(\"✅Welcome, Admin\")    # print welcome\n",
    "        else:                            # agar pw is not admin\n",
    "            print(\"☠️Wrong Password\")   # print wrong password\n",
    "    else:                                # agar un is not admin\n",
    "        print(\"🚫Invalid Username\")     # print invalid username\n",
    "else:                                    # agar un and pw are empty\n",
    "    print(\"☠️Enter valid details☠️\")    # print enter valid details"
   ]
  },
  {
   "cell_type": "code",
   "execution_count": 28,
   "metadata": {},
   "outputs": [
    {
     "name": "stdout",
     "output_type": "stream",
     "text": [
      "✅\n",
      "✅\n"
     ]
    }
   ],
   "source": [
    "# short hand if else\n",
    "a = 13\n",
    "print(\"✅\") if a >=10 else print(\"🤬\")\n",
    "print(\"✅\" if a >=10 else \"🤬\")"
   ]
  },
  {
   "cell_type": "code",
   "execution_count": 32,
   "metadata": {},
   "outputs": [
    {
     "name": "stdout",
     "output_type": "stream",
     "text": [
      "What would you like to eat\n",
      "Menu\n",
      "1. Pizza 🍕\n",
      "2. Burger 🍔\n",
      "3. Pasta 🍝\n",
      "4. Sandwich 🥪\n",
      "enter a number: \n",
      "Your order is Pasta 🍝\n",
      "total amt = 299\n"
     ]
    }
   ],
   "source": [
    "# match case (not similar to switch case)\n",
    "print(\"What would you like to eat\")\n",
    "print(\"Menu\")\n",
    "print(\"1. Pizza 🍕\")\n",
    "print(\"2. Burger 🍔\")\n",
    "print(\"3. Pasta 🍝\")\n",
    "print(\"4. Sandwich 🥪\")\n",
    "print(\"enter a number: \")\n",
    "ch = int(input(\">>>\"))\n",
    "match ch:\n",
    "    case 1:\n",
    "        print(\"Your order is Pizza 🍕\\ntotal amt = 400\")\n",
    "    case 2:\n",
    "        print(\"Your order is Burger 🍔\\ntotal amt = 199\")\n",
    "    case 3:\n",
    "        print(\"Your order is Pasta 🍝\\ntotal amt = 299\")\n",
    "    case 4:\n",
    "        print(\"Your order is Sandwich 🥪\\ntotal amt = 99\")\n",
    "    case _:\n",
    "        print(\"Invalid choice\")"
   ]
  },
  {
   "cell_type": "code",
   "execution_count": 33,
   "metadata": {},
   "outputs": [
    {
     "name": "stdout",
     "output_type": "stream",
     "text": [
      "What would you like to eat\n",
      "Menu\n",
      "1. Pizza 🍕\n",
      "2. Burger 🍔\n",
      "3. Pasta 🍝\n",
      "4. Sandwich 🥪\n",
      "enter a number: \n",
      "Invalid choice\n"
     ]
    }
   ],
   "source": [
    "# match case (not similar to switch case)\n",
    "print(\"What would you like to eat\")\n",
    "print(\"Menu\")\n",
    "print(\"1. Pizza 🍕\")\n",
    "print(\"2. Burger 🍔\")\n",
    "print(\"3. Pasta 🍝\")\n",
    "print(\"4. Sandwich 🥪\")\n",
    "print(\"enter a number: \")\n",
    "ch = int(input(\">>>\"))\n",
    "if ch == 1:\n",
    "    print(\"Your order is Pizza 🍕\\ntotal amt = 400\")\n",
    "elif ch == 2:\n",
    "    print(\"Your order is Burger 🍔\\ntotal amt = 199\")\n",
    "elif ch == 3:\n",
    "    print(\"Your order is Pasta 🍝\\ntotal amt = 299\")\n",
    "elif ch == 4:\n",
    "    print(\"Your order is Sandwich 🥪\\ntotal amt = 99\")\n",
    "else:\n",
    "    print(\"Invalid choice\")    "
   ]
  },
  {
   "cell_type": "code",
   "execution_count": null,
   "metadata": {},
   "outputs": [],
   "source": []
  }
 ],
 "metadata": {
  "kernelspec": {
   "display_name": "base",
   "language": "python",
   "name": "python3"
  },
  "language_info": {
   "codemirror_mode": {
    "name": "ipython",
    "version": 3
   },
   "file_extension": ".py",
   "mimetype": "text/x-python",
   "name": "python",
   "nbconvert_exporter": "python",
   "pygments_lexer": "ipython3",
   "version": "3.12.2"
  }
 },
 "nbformat": 4,
 "nbformat_minor": 2
}
